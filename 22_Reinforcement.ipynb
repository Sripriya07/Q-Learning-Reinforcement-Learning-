{
  "nbformat": 4,
  "nbformat_minor": 0,
  "metadata": {
    "kernelspec": {
      "display_name": "Python 3",
      "language": "python",
      "name": "python3"
    },
    "language_info": {
      "codemirror_mode": {
        "name": "ipython",
        "version": 3
      },
      "file_extension": ".py",
      "mimetype": "text/x-python",
      "name": "python",
      "nbconvert_exporter": "python",
      "pygments_lexer": "ipython3",
      "version": "3.6.6"
    },
    "colab": {
      "name": "22-Reinforcement.ipynb",
      "version": "0.3.2",
      "provenance": [],
      "include_colab_link": true
    }
  },
  "cells": [
    {
      "cell_type": "markdown",
      "metadata": {
        "id": "view-in-github",
        "colab_type": "text"
      },
      "source": [
        "<a href=\"https://colab.research.google.com/github/Sripriya07/Q-Learning-Reinforcement-Learning-/blob/master/22_Reinforcement.ipynb\" target=\"_parent\"><img src=\"https://colab.research.google.com/assets/colab-badge.svg\" alt=\"Open In Colab\"/></a>"
      ]
    },
    {
      "cell_type": "code",
      "metadata": {
        "id": "HGkMpamc-VhD",
        "colab_type": "code",
        "colab": {}
      },
      "source": [
        "from IPython.display import clear_output"
      ],
      "execution_count": 0,
      "outputs": []
    },
    {
      "cell_type": "code",
      "metadata": {
        "id": "fHT0dxK6-VhH",
        "colab_type": "code",
        "colab": {}
      },
      "source": [
        "import gym\n",
        "import random\n",
        "import numpy as np\n",
        "import time"
      ],
      "execution_count": 0,
      "outputs": []
    },
    {
      "cell_type": "code",
      "metadata": {
        "id": "uCCoUHTz-VhQ",
        "colab_type": "code",
        "colab": {}
      },
      "source": [
        "# https://github.com/openai/gym/blob/master/gym/envs/__init__.py\n",
        "\n",
        "from gym.envs.registration import register\n",
        "\n",
        "try:\n",
        "    register(\n",
        "        id='FrozenLakeNoSlip-v0',\n",
        "        entry_point='gym.envs.toy_text:FrozenLakeEnv',\n",
        "        kwargs={'map_name' : '4x4', 'is_slippery': False},\n",
        "        max_episode_steps=100,\n",
        "        reward_threshold=0.78, # optimum = .8196\n",
        "    )\n",
        "except:\n",
        "    pass\n",
        "\n",
        "env_name = 'FrozenLakeNoSlip-v0'\n",
        "env = gym.make(env_name)"
      ],
      "execution_count": 0,
      "outputs": []
    },
    {
      "cell_type": "code",
      "metadata": {
        "id": "HBqgreHc-VhT",
        "colab_type": "code",
        "colab": {},
        "outputId": "a0005288-f75c-42c5-a077-214679598147"
      },
      "source": [
        "env.observation_space"
      ],
      "execution_count": 0,
      "outputs": [
        {
          "output_type": "execute_result",
          "data": {
            "text/plain": [
              "Discrete(16)"
            ]
          },
          "metadata": {
            "tags": []
          },
          "execution_count": 3
        }
      ]
    },
    {
      "cell_type": "code",
      "metadata": {
        "id": "x-Sa1JFD-Vha",
        "colab_type": "code",
        "colab": {},
        "outputId": "d50e92fa-fbe3-420a-ef96-9027c9e0a16a"
      },
      "source": [
        "env.action_space"
      ],
      "execution_count": 0,
      "outputs": [
        {
          "output_type": "execute_result",
          "data": {
            "text/plain": [
              "Discrete(4)"
            ]
          },
          "metadata": {
            "tags": []
          },
          "execution_count": 4
        }
      ]
    },
    {
      "cell_type": "code",
      "metadata": {
        "id": "eYYZ2Fjg-Vhh",
        "colab_type": "code",
        "colab": {},
        "outputId": "fd759397-84ca-45ea-f836-191964f2d411"
      },
      "source": [
        "type(env.action_space)"
      ],
      "execution_count": 0,
      "outputs": [
        {
          "output_type": "execute_result",
          "data": {
            "text/plain": [
              "gym.spaces.discrete.Discrete"
            ]
          },
          "metadata": {
            "tags": []
          },
          "execution_count": 7
        }
      ]
    },
    {
      "cell_type": "code",
      "metadata": {
        "id": "WWIlHNhO-Vhm",
        "colab_type": "code",
        "colab": {}
      },
      "source": [
        "# dunder\n",
        "\n",
        "class Agent():\n",
        "    def __init__(self, env):\n",
        "        self.env = env\n",
        "        self.actionSize = env.action_space.n\n",
        "        self.stateSize = env.observation_space.n\n",
        "        \n",
        "    def getAction(self, state):\n",
        "        action = self.env.action_space.sample()      \n",
        "        return action\n",
        "\n",
        "agent = Agent(env)"
      ],
      "execution_count": 0,
      "outputs": []
    },
    {
      "cell_type": "code",
      "metadata": {
        "id": "oxzPErG6-Vhp",
        "colab_type": "code",
        "colab": {},
        "outputId": "06da66e6-d6a3-4650-98e9-6b76d9a07e68"
      },
      "source": [
        "for ep in range(20):\n",
        "    state = env.reset()\n",
        "    done = False\n",
        "    while not done:\n",
        "        action = agent.getAction(state)\n",
        "        state, reward, done, info = env.step(action)\n",
        "        env.render()\n",
        "        time.sleep(0.05)\n",
        "        clear_output(wait=True)\n",
        "        \n",
        "env.close()"
      ],
      "execution_count": 0,
      "outputs": [
        {
          "output_type": "stream",
          "text": [
            "  (Down)\n",
            "SFFF\n",
            "F\u001b[41mH\u001b[0mFH\n",
            "FFFH\n",
            "HFFG\n"
          ],
          "name": "stdout"
        }
      ]
    },
    {
      "cell_type": "code",
      "metadata": {
        "id": "05gZAfLL-Vhw",
        "colab_type": "code",
        "colab": {}
      },
      "source": [
        ""
      ],
      "execution_count": 0,
      "outputs": []
    },
    {
      "cell_type": "markdown",
      "metadata": {
        "id": "ZH-YeYtc-Vh0",
        "colab_type": "text"
      },
      "source": [
        "# Q- Learning"
      ]
    },
    {
      "cell_type": "code",
      "metadata": {
        "id": "juLHY2zj-Vh1",
        "colab_type": "code",
        "colab": {}
      },
      "source": [
        "class Agent():\n",
        "    def __init__(self, env, discountRate=0.97, learningRate=0.01):\n",
        "        self.env = env\n",
        "        self.actionSize = env.action_space.n\n",
        "        self.stateSize = env.observation_space.n\n",
        "        \n",
        "        self.explorationRate = 1.0\n",
        "        self.discountRate = discountRate\n",
        "        self.learningRate = learningRate\n",
        "        \n",
        "        self.qTable = 1e-4*np.random.random([self.stateSize, self.actionSize])\n",
        "        \n",
        "    def getAction(self, state):\n",
        "        qState = self.qTable[state]\n",
        "        actionGreedy = np.argmax(qState)\n",
        "        actionRandom = self.env.action_space.sample()\n",
        "        if random.random() < self.explorationRate:\n",
        "            action = actionRandom\n",
        "        else:\n",
        "            action =  actionGreedy\n",
        "        return action\n",
        "\n",
        "    def train(self, state, action, nextState, reward, done):\n",
        "        if done:\n",
        "            qNext = np.zeros([self.actionSize])\n",
        "        else:\n",
        "            qNext = self.qTable[nextState]\n",
        "        qTarget = reward + self.discountRate*np.max(qNext)\n",
        "        qUpdate = qTarget - self.qTable[state, action]\n",
        "        self.qTable[state,action] += self.learningRate*qUpdate\n",
        "        \n",
        "        if done:\n",
        "            self.explorationRate *= 0.99\n",
        "    \n",
        "agent = Agent(env)"
      ],
      "execution_count": 0,
      "outputs": []
    },
    {
      "cell_type": "code",
      "metadata": {
        "id": "ET1y8sj9-Vh4",
        "colab_type": "code",
        "colab": {},
        "outputId": "4497d8d2-9bf2-4c6c-d304-6be09b822576"
      },
      "source": [
        "totalReward = 0\n",
        "for ep in range(100):\n",
        "    state = env.reset()\n",
        "    done = False\n",
        "    while not done:\n",
        "        action = agent.getAction(state)\n",
        "        nextState, reward, done, info = env.step(action)\n",
        "        agent.train(state, action, nextState, reward, done)\n",
        "        \n",
        "        print(f's:{state}, a:{action}')\n",
        "        state = nextState\n",
        "        \n",
        "        totalReward += reward\n",
        "        print(f'Ep:{ep}, Goal:{totalReward}, Explore:{agent.explorationRate}')\n",
        "        \n",
        "        env.render()\n",
        "        print(agent.qTable)\n",
        "        \n",
        "        time.sleep(0.05)\n",
        "        clear_output(wait=True)\n",
        "        \n",
        "env.close()"
      ],
      "execution_count": 0,
      "outputs": [
        {
          "output_type": "stream",
          "text": [
            "s:6, a:0\n",
            "Ep:99, Goal:0.0, Explore:0.36603234127322926\n",
            "  (Left)\n",
            "SFFF\n",
            "F\u001b[41mH\u001b[0mFH\n",
            "FFFH\n",
            "HFFG\n",
            "[[4.56373783e-05 4.76309599e-05 8.27070632e-05 6.77901366e-05]\n",
            " [8.29597461e-05 2.68261425e-05 4.78174290e-05 7.66472591e-05]\n",
            " [4.58029624e-05 4.28410815e-05 2.64959878e-05 7.77015882e-05]\n",
            " [6.87247844e-05 4.40637638e-05 9.42116017e-05 1.22319975e-05]\n",
            " [6.79293914e-06 1.54744172e-05 5.83241975e-05 4.71801310e-05]\n",
            " [6.67256812e-05 6.20912576e-05 7.64222127e-05 3.82215709e-05]\n",
            " [3.81417390e-05 4.56575573e-05 7.04261058e-05 4.55172491e-05]\n",
            " [1.80781869e-05 9.03906352e-05 5.01316292e-05 5.57440296e-05]\n",
            " [2.76412155e-05 2.34144135e-05 9.00821299e-05 3.64128380e-05]\n",
            " [8.79972931e-05 6.62768269e-05 6.46278819e-05 6.79789016e-05]\n",
            " [1.15808356e-05 6.09590779e-05 1.29434005e-05 2.06453306e-05]\n",
            " [8.24784592e-05 3.93622745e-05 4.56483395e-05 9.57306360e-05]\n",
            " [9.87483117e-05 9.53857510e-05 2.55635941e-05 5.76277423e-05]\n",
            " [2.19361763e-05 1.51547245e-05 5.51616700e-05 4.68155956e-05]\n",
            " [8.51423092e-05 1.26757567e-05 1.14667533e-05 8.91710966e-05]\n",
            " [3.65890227e-05 6.93338642e-05 1.80314958e-05 3.50540336e-05]]\n"
          ],
          "name": "stdout"
        }
      ]
    },
    {
      "cell_type": "code",
      "metadata": {
        "id": "dmmPjyYm-Vh-",
        "colab_type": "code",
        "colab": {}
      },
      "source": [
        ""
      ],
      "execution_count": 0,
      "outputs": []
    },
    {
      "cell_type": "markdown",
      "metadata": {
        "id": "h-0wxjDA-ViB",
        "colab_type": "text"
      },
      "source": [
        "# Q-Learning with Neural Network"
      ]
    },
    {
      "cell_type": "code",
      "metadata": {
        "id": "19FLkJuT-ViC",
        "colab_type": "code",
        "colab": {},
        "outputId": "96cda85d-62d6-41a1-c814-1429550b59d7"
      },
      "source": [
        "import tensorflow as tf"
      ],
      "execution_count": 0,
      "outputs": [
        {
          "output_type": "stream",
          "text": [
            "/Library/Frameworks/Python.framework/Versions/3.6/lib/python3.6/importlib/_bootstrap.py:219: RuntimeWarning: compiletime version 3.5 of module 'tensorflow.python.framework.fast_tensor_util' does not match runtime version 3.6\n",
            "  return f(*args, **kwds)\n"
          ],
          "name": "stderr"
        }
      ]
    },
    {
      "cell_type": "code",
      "metadata": {
        "id": "1Et7Gfog-ViI",
        "colab_type": "code",
        "colab": {}
      },
      "source": [
        "class Agent():\n",
        "    def __init__(self, env, discountRate=0.97, learningRate=0.01):\n",
        "        self.env = env\n",
        "        self.actionSize = env.action_space.n\n",
        "        self.stateSize = env.observation_space.n\n",
        "        \n",
        "        self.explorationRate = 1.0\n",
        "        self.discountRate = discountRate\n",
        "        self.learningRate = learningRate\n",
        "        \n",
        "        tf.reset_default_graph()\n",
        "        self.stateIn = tf.placeholder(tf.int32, shape=[1])\n",
        "        self.actionIn = tf.placeholder(tf.int32, shape=[1])\n",
        "        self.targetIn = tf.placeholder(tf.float32, shape=[1])\n",
        "        \n",
        "        self.state = tf.one_hot(self.stateIn, depth=self.stateSize)\n",
        "        self.action = tf.one_hot(self.actionIn, depth=self.actionSize)\n",
        "        \n",
        "        self.qState = tf.layers.dense(self.state, units=self.actionSize, name='QTable')\n",
        "        self.qAction = tf.reduce_sum(tf.multiply(self.qState, self.action), axis=1)\n",
        "        \n",
        "        self.loss = tf.reduce_sum(tf.square(self.targetIn - self.qAction))\n",
        "        self.optimizer = tf.train.AdamOptimizer(self.learningRate).minimize(self.loss)\n",
        "        \n",
        "        self.sess = tf.Session()\n",
        "        self.sess.run(tf.global_variables_initializer())\n",
        "        \n",
        "    def getAction(self, state):\n",
        "        qState = self.sess.run(self.qState, feed_dict={self.stateIn:[state]})\n",
        "        actionGreedy = np.argmax(qState)\n",
        "        actionRandom = self.env.action_space.sample()\n",
        "        if random.random() < self.explorationRate:\n",
        "            action = actionRandom\n",
        "        else:\n",
        "            action =  actionGreedy\n",
        "        return action\n",
        "\n",
        "    def train(self, state, action, nextState, reward, done):\n",
        "        if done:\n",
        "            qNext = np.zeros([self.actionSize])\n",
        "        else:\n",
        "            qNext = self.sess.run(self.qState, feed_dict={self.stateIn:[nextState]})\n",
        "        qTarget = reward + self.discountRate*np.max(qNext)\n",
        "        \n",
        "        feed = {\n",
        "            self.stateIn: [state],\n",
        "            self.actionIn: [action],\n",
        "            self.targetIn: [qTarget]\n",
        "        }\n",
        "        self.sess.run(self.optimizer, feed_dict=feed)\n",
        "        \n",
        "        if done:\n",
        "            self.explorationRate *= 0.99\n",
        "            \n",
        "    def __del__(self):\n",
        "        self.sess.close()\n",
        "    \n",
        "agent = Agent(env)"
      ],
      "execution_count": 0,
      "outputs": []
    },
    {
      "cell_type": "code",
      "metadata": {
        "id": "m6DszTdk-ViN",
        "colab_type": "code",
        "colab": {},
        "outputId": "38d36f98-4d45-46fc-92ef-bf256a0cea60"
      },
      "source": [
        "totalReward = 0\n",
        "for ep in range(100):\n",
        "    state = env.reset()\n",
        "    done = False\n",
        "    while not done:\n",
        "        action = agent.getAction(state)\n",
        "        nextState, reward, done, info = env.step(action)\n",
        "        agent.train(state, action, nextState, reward, done)\n",
        "        \n",
        "        print(f's:{state}, a:{action}')\n",
        "        state = nextState\n",
        "        \n",
        "        totalReward += reward\n",
        "        print(f'Ep:{ep}, Goal:{totalReward}, Explore:{agent.explorationRate}')\n",
        "        \n",
        "        env.render()\n",
        "        \n",
        "        with tf.variable_scope('QTable', reuse=True):\n",
        "            weights = agent.sess.run(tf.get_variable('kernel'))\n",
        "            print(weights)\n",
        "        \n",
        "        time.sleep(0.05)\n",
        "        clear_output(wait=True)\n",
        "        \n",
        "env.close()"
      ],
      "execution_count": 0,
      "outputs": [
        {
          "output_type": "stream",
          "text": [
            "s:8, a:1\n",
            "Ep:99, Goal:8.0, Explore:0.36603234127322926\n",
            "  (Down)\n",
            "SFFF\n",
            "FHFH\n",
            "FFFH\n",
            "\u001b[41mH\u001b[0mFFG\n",
            "[[ 0.24509813  0.16395125  0.20618448  0.02229135]\n",
            " [ 0.18115844 -0.51777035  0.14276125 -0.17493106]\n",
            " [ 0.17200133 -0.02739375  0.3345015  -0.0501372 ]\n",
            " [ 0.2293277  -0.43240154  0.26797414 -0.06178652]\n",
            " [ 0.25584513  0.1722035  -0.50136817  0.09133032]\n",
            " [-0.2533045   0.12269038  0.50213706  0.297525  ]\n",
            " [-0.27757084 -0.04342653 -0.06098402 -0.07776279]\n",
            " [-0.20415747 -0.17382884  0.16484326 -0.27588147]\n",
            " [ 0.29695252 -0.8070774   0.51242816  0.13374288]\n",
            " [ 0.32144007  0.18435301  0.39254153 -0.7583182 ]\n",
            " [ 0.00279046  0.20622282 -0.2573882  -0.13300154]\n",
            " [ 0.43928647 -0.51543176  0.10943538 -0.09816831]\n",
            " [-0.09062845 -0.10944542 -0.10986134  0.2589336 ]\n",
            " [-0.6603931   0.10617203  0.51853764  0.16442236]\n",
            " [ 0.34697786  0.17438534  0.48953643  0.18942189]\n",
            " [ 0.31645572 -0.3779943   0.27900732  0.4119057 ]]\n"
          ],
          "name": "stdout"
        }
      ]
    },
    {
      "cell_type": "code",
      "metadata": {
        "id": "Q3rG0d4R-ViU",
        "colab_type": "code",
        "colab": {}
      },
      "source": [
        ""
      ],
      "execution_count": 0,
      "outputs": []
    },
    {
      "cell_type": "code",
      "metadata": {
        "id": "xi0wfcdK-ViZ",
        "colab_type": "code",
        "colab": {}
      },
      "source": [
        ""
      ],
      "execution_count": 0,
      "outputs": []
    },
    {
      "cell_type": "code",
      "metadata": {
        "id": "m9o873eq-Vie",
        "colab_type": "code",
        "colab": {}
      },
      "source": [
        ""
      ],
      "execution_count": 0,
      "outputs": []
    },
    {
      "cell_type": "code",
      "metadata": {
        "id": "rh5IZZuL-Vii",
        "colab_type": "code",
        "colab": {}
      },
      "source": [
        ""
      ],
      "execution_count": 0,
      "outputs": []
    },
    {
      "cell_type": "code",
      "metadata": {
        "id": "gzHFlO9L-Vio",
        "colab_type": "code",
        "colab": {}
      },
      "source": [
        ""
      ],
      "execution_count": 0,
      "outputs": []
    },
    {
      "cell_type": "code",
      "metadata": {
        "id": "_TYwyIka-Vis",
        "colab_type": "code",
        "colab": {}
      },
      "source": [
        ""
      ],
      "execution_count": 0,
      "outputs": []
    },
    {
      "cell_type": "code",
      "metadata": {
        "id": "8WsGtcHc-Viw",
        "colab_type": "code",
        "colab": {}
      },
      "source": [
        ""
      ],
      "execution_count": 0,
      "outputs": []
    },
    {
      "cell_type": "code",
      "metadata": {
        "id": "HdeYR09r-Vi0",
        "colab_type": "code",
        "colab": {}
      },
      "source": [
        ""
      ],
      "execution_count": 0,
      "outputs": []
    },
    {
      "cell_type": "code",
      "metadata": {
        "id": "53M5GJCJ-Vi3",
        "colab_type": "code",
        "colab": {}
      },
      "source": [
        ""
      ],
      "execution_count": 0,
      "outputs": []
    },
    {
      "cell_type": "code",
      "metadata": {
        "id": "jcNleroB-Vi6",
        "colab_type": "code",
        "colab": {}
      },
      "source": [
        ""
      ],
      "execution_count": 0,
      "outputs": []
    },
    {
      "cell_type": "code",
      "metadata": {
        "id": "b08Z_H7e-Vi9",
        "colab_type": "code",
        "colab": {}
      },
      "source": [
        ""
      ],
      "execution_count": 0,
      "outputs": []
    },
    {
      "cell_type": "code",
      "metadata": {
        "id": "ZYRaw-Op-Vi_",
        "colab_type": "code",
        "colab": {}
      },
      "source": [
        ""
      ],
      "execution_count": 0,
      "outputs": []
    },
    {
      "cell_type": "code",
      "metadata": {
        "id": "QVs_fD5A-VjC",
        "colab_type": "code",
        "colab": {}
      },
      "source": [
        ""
      ],
      "execution_count": 0,
      "outputs": []
    },
    {
      "cell_type": "code",
      "metadata": {
        "id": "U0JaGHWi-VjF",
        "colab_type": "code",
        "colab": {}
      },
      "source": [
        ""
      ],
      "execution_count": 0,
      "outputs": []
    },
    {
      "cell_type": "code",
      "metadata": {
        "id": "tYPF6GsZ-VjI",
        "colab_type": "code",
        "colab": {}
      },
      "source": [
        ""
      ],
      "execution_count": 0,
      "outputs": []
    },
    {
      "cell_type": "code",
      "metadata": {
        "id": "FBYgrYZ8-VjL",
        "colab_type": "code",
        "colab": {}
      },
      "source": [
        ""
      ],
      "execution_count": 0,
      "outputs": []
    },
    {
      "cell_type": "code",
      "metadata": {
        "id": "8inHcU8H-VjP",
        "colab_type": "code",
        "colab": {}
      },
      "source": [
        ""
      ],
      "execution_count": 0,
      "outputs": []
    },
    {
      "cell_type": "code",
      "metadata": {
        "id": "M67Sr4Df-VjR",
        "colab_type": "code",
        "colab": {}
      },
      "source": [
        ""
      ],
      "execution_count": 0,
      "outputs": []
    },
    {
      "cell_type": "code",
      "metadata": {
        "id": "dll6Bchz-VjV",
        "colab_type": "code",
        "colab": {}
      },
      "source": [
        ""
      ],
      "execution_count": 0,
      "outputs": []
    },
    {
      "cell_type": "code",
      "metadata": {
        "id": "yMkjxIB--Vja",
        "colab_type": "code",
        "colab": {}
      },
      "source": [
        ""
      ],
      "execution_count": 0,
      "outputs": []
    },
    {
      "cell_type": "code",
      "metadata": {
        "id": "8vYEim0e-Vjc",
        "colab_type": "code",
        "colab": {}
      },
      "source": [
        ""
      ],
      "execution_count": 0,
      "outputs": []
    },
    {
      "cell_type": "code",
      "metadata": {
        "id": "_Uiu3MGm-Vjg",
        "colab_type": "code",
        "colab": {}
      },
      "source": [
        ""
      ],
      "execution_count": 0,
      "outputs": []
    },
    {
      "cell_type": "code",
      "metadata": {
        "id": "Rvx302NG-Vjj",
        "colab_type": "code",
        "colab": {}
      },
      "source": [
        ""
      ],
      "execution_count": 0,
      "outputs": []
    },
    {
      "cell_type": "code",
      "metadata": {
        "id": "mdGGuuX--Vjq",
        "colab_type": "code",
        "colab": {}
      },
      "source": [
        ""
      ],
      "execution_count": 0,
      "outputs": []
    },
    {
      "cell_type": "code",
      "metadata": {
        "id": "vDtjciGn-Vjt",
        "colab_type": "code",
        "colab": {}
      },
      "source": [
        ""
      ],
      "execution_count": 0,
      "outputs": []
    },
    {
      "cell_type": "code",
      "metadata": {
        "id": "nOo3y97s-Vjv",
        "colab_type": "code",
        "colab": {}
      },
      "source": [
        ""
      ],
      "execution_count": 0,
      "outputs": []
    },
    {
      "cell_type": "code",
      "metadata": {
        "id": "enz3eYIB-Vjz",
        "colab_type": "code",
        "colab": {}
      },
      "source": [
        ""
      ],
      "execution_count": 0,
      "outputs": []
    },
    {
      "cell_type": "code",
      "metadata": {
        "id": "NoCcbAQ_-Vj6",
        "colab_type": "code",
        "colab": {}
      },
      "source": [
        ""
      ],
      "execution_count": 0,
      "outputs": []
    }
  ]
}